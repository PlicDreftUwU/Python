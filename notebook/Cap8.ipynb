{
 "cells": [
  {
   "cell_type": "markdown",
   "metadata": {},
   "source": [
    "# Capitulo 8"
   ]
  },
  {
   "cell_type": "code",
   "execution_count": 13,
   "metadata": {},
   "outputs": [
    {
     "ename": "ValueError",
     "evalue": "20 is not in list",
     "output_type": "error",
     "traceback": [
      "\u001b[1;31m---------------------------------------------------------------------------\u001b[0m",
      "\u001b[1;31mValueError\u001b[0m                                Traceback (most recent call last)",
      "\u001b[1;32md:\\PERSONAL\\Programación\\Python\\Cap8.ipynb Celda 2\u001b[0m in \u001b[0;36m<cell line: 2>\u001b[1;34m()\u001b[0m\n\u001b[0;32m      <a href='vscode-notebook-cell:/d%3A/PERSONAL/Programaci%C3%B3n/Python/Cap8.ipynb#X13sZmlsZQ%3D%3D?line=0'>1</a>\u001b[0m [\u001b[39m1\u001b[39m, \u001b[39m3\u001b[39m, \u001b[39m5\u001b[39m, \u001b[39m7\u001b[39m]\u001b[39m.\u001b[39mindex(\u001b[39m5\u001b[39m)\n\u001b[1;32m----> <a href='vscode-notebook-cell:/d%3A/PERSONAL/Programaci%C3%B3n/Python/Cap8.ipynb#X13sZmlsZQ%3D%3D?line=1'>2</a>\u001b[0m [\u001b[39m1\u001b[39;49m, \u001b[39m3\u001b[39;49m, \u001b[39m5\u001b[39;49m, \u001b[39m7\u001b[39;49m]\u001b[39m.\u001b[39;49mindex(\u001b[39m20\u001b[39;49m)\n",
      "\u001b[1;31mValueError\u001b[0m: 20 is not in list"
     ]
    }
   ],
   "source": [
    "[1, 3, 5, 7].index(5)\n",
    "[1, 3, 5, 7].index(20)\n"
   ]
  },
  {
   "cell_type": "code",
   "execution_count": null,
   "metadata": {},
   "outputs": [
    {
     "data": {
      "text/plain": [
       "False"
      ]
     },
     "execution_count": 1,
     "metadata": {},
     "output_type": "execute_result"
    }
   ],
   "source": [
    " 5 in [1, 3, 5, 7]\n",
    " \n",
    " 20 in [1, 3, 5, 7]\n"
   ]
  },
  {
   "cell_type": "code",
   "execution_count": null,
   "metadata": {},
   "outputs": [
    {
     "name": "stdout",
     "output_type": "stream",
     "text": [
      "3\n",
      "-1\n",
      "-1\n"
     ]
    }
   ],
   "source": [
    "def busqueda_con_index(xs, x):\n",
    "    if x in xs:\n",
    "        return(xs.index(x))\n",
    "    else:\n",
    "        return(-1)\n",
    "print (busqueda_con_index([1, 4, 54, 3, 0, -1], 3))\n",
    "\n",
    "print (busqueda_con_index([1, 4, 54, 3, 0, -1], 44))\n",
    "\n",
    "print (busqueda_con_index([], 0))"
   ]
  },
  {
   "cell_type": "code",
   "execution_count": null,
   "metadata": {},
   "outputs": [
    {
     "name": "stdout",
     "output_type": "stream",
     "text": [
      "-1\n",
      "3\n",
      "4\n",
      "-1\n"
     ]
    }
   ],
   "source": [
    "def busqueda_lineal(lista, x):\n",
    "    i = 0\n",
    "    for z in lista:\n",
    "        if z == x:\n",
    "            return i\n",
    "        i = i+1\n",
    "    return -1\n",
    "\n",
    "print (busqueda_lineal([1, 4, 54, 3, 0, -1], 44))\n",
    "\n",
    "print(busqueda_lineal([1, 4, 54, 3, 0, -1], 3))\n",
    "\n",
    "print(busqueda_lineal([1, 4, 54, 3, 0, -1], 0))\n",
    "\n",
    "print(busqueda_lineal([], 0))\n"
   ]
  },
  {
   "cell_type": "code",
   "execution_count": 2,
   "metadata": {},
   "outputs": [
    {
     "name": "stdout",
     "output_type": "stream",
     "text": [
      "DEBUG: izq: 0 der: 2 medio: 1.0\n"
     ]
    },
    {
     "ename": "TypeError",
     "evalue": "list indices must be integers or slices, not float",
     "output_type": "error",
     "traceback": [
      "\u001b[1;31m---------------------------------------------------------------------------\u001b[0m",
      "\u001b[1;31mTypeError\u001b[0m                                 Traceback (most recent call last)",
      "\u001b[1;32md:\\PERSONAL\\Programación\\Python\\Cap8.ipynb Celda 6\u001b[0m in \u001b[0;36m<cell line: 21>\u001b[1;34m()\u001b[0m\n\u001b[0;32m     <a href='vscode-notebook-cell:/d%3A/PERSONAL/Programaci%C3%B3n/Python/Cap8.ipynb#W5sZmlsZQ%3D%3D?line=18'>19</a>\u001b[0m         lista \u001b[39m=\u001b[39m [\u001b[39m1\u001b[39m,\u001b[39m3\u001b[39m,\u001b[39m5\u001b[39m]\n\u001b[0;32m     <a href='vscode-notebook-cell:/d%3A/PERSONAL/Programaci%C3%B3n/Python/Cap8.ipynb#W5sZmlsZQ%3D%3D?line=20'>21</a>\u001b[0m \u001b[39mif\u001b[39;00m \u001b[39m__name__\u001b[39m \u001b[39m==\u001b[39m \u001b[39m'\u001b[39m\u001b[39m__main__\u001b[39m\u001b[39m'\u001b[39m:\n\u001b[1;32m---> <a href='vscode-notebook-cell:/d%3A/PERSONAL/Programaci%C3%B3n/Python/Cap8.ipynb#W5sZmlsZQ%3D%3D?line=21'>22</a>\u001b[0m     main()\n",
      "\u001b[1;32md:\\PERSONAL\\Programación\\Python\\Cap8.ipynb Celda 6\u001b[0m in \u001b[0;36mmain\u001b[1;34m()\u001b[0m\n\u001b[0;32m     <a href='vscode-notebook-cell:/d%3A/PERSONAL/Programaci%C3%B3n/Python/Cap8.ipynb#W5sZmlsZQ%3D%3D?line=14'>15</a>\u001b[0m \u001b[39mwhile\u001b[39;00m lista \u001b[39m!=\u001b[39m [[]]:\n\u001b[0;32m     <a href='vscode-notebook-cell:/d%3A/PERSONAL/Programaci%C3%B3n/Python/Cap8.ipynb#W5sZmlsZQ%3D%3D?line=15'>16</a>\u001b[0m     x \u001b[39m=\u001b[39m \u001b[39m2\u001b[39m\n\u001b[1;32m---> <a href='vscode-notebook-cell:/d%3A/PERSONAL/Programaci%C3%B3n/Python/Cap8.ipynb#W5sZmlsZQ%3D%3D?line=16'>17</a>\u001b[0m     resultado \u001b[39m=\u001b[39m busqueda_binaria(lista, x)\n\u001b[0;32m     <a href='vscode-notebook-cell:/d%3A/PERSONAL/Programaci%C3%B3n/Python/Cap8.ipynb#W5sZmlsZQ%3D%3D?line=17'>18</a>\u001b[0m     \u001b[39mprint\u001b[39m (\u001b[39m\"\u001b[39m\u001b[39mResultado:\u001b[39m\u001b[39m\"\u001b[39m, resultado)\n\u001b[0;32m     <a href='vscode-notebook-cell:/d%3A/PERSONAL/Programaci%C3%B3n/Python/Cap8.ipynb#W5sZmlsZQ%3D%3D?line=18'>19</a>\u001b[0m     lista \u001b[39m=\u001b[39m [\u001b[39m1\u001b[39m,\u001b[39m3\u001b[39m,\u001b[39m5\u001b[39m]\n",
      "\u001b[1;32md:\\PERSONAL\\Programación\\Python\\Cap8.ipynb Celda 6\u001b[0m in \u001b[0;36mbusqueda_binaria\u001b[1;34m(lista, x)\u001b[0m\n\u001b[0;32m      <a href='vscode-notebook-cell:/d%3A/PERSONAL/Programaci%C3%B3n/Python/Cap8.ipynb#W5sZmlsZQ%3D%3D?line=4'>5</a>\u001b[0m medio \u001b[39m=\u001b[39m (izq\u001b[39m+\u001b[39mder)\u001b[39m/\u001b[39m\u001b[39m2\u001b[39m\n\u001b[0;32m      <a href='vscode-notebook-cell:/d%3A/PERSONAL/Programaci%C3%B3n/Python/Cap8.ipynb#W5sZmlsZQ%3D%3D?line=5'>6</a>\u001b[0m \u001b[39mprint\u001b[39m (\u001b[39m\"\u001b[39m\u001b[39mDEBUG:\u001b[39m\u001b[39m\"\u001b[39m, \u001b[39m\"\u001b[39m\u001b[39mizq:\u001b[39m\u001b[39m\"\u001b[39m, izq, \u001b[39m\"\u001b[39m\u001b[39mder:\u001b[39m\u001b[39m\"\u001b[39m, der, \u001b[39m\"\u001b[39m\u001b[39mmedio:\u001b[39m\u001b[39m\"\u001b[39m, medio)\n\u001b[1;32m----> <a href='vscode-notebook-cell:/d%3A/PERSONAL/Programaci%C3%B3n/Python/Cap8.ipynb#W5sZmlsZQ%3D%3D?line=6'>7</a>\u001b[0m \u001b[39mif\u001b[39;00m lista[medio] \u001b[39m==\u001b[39m x:\n\u001b[0;32m      <a href='vscode-notebook-cell:/d%3A/PERSONAL/Programaci%C3%B3n/Python/Cap8.ipynb#W5sZmlsZQ%3D%3D?line=7'>8</a>\u001b[0m     \u001b[39mreturn\u001b[39;00m medio\n\u001b[0;32m      <a href='vscode-notebook-cell:/d%3A/PERSONAL/Programaci%C3%B3n/Python/Cap8.ipynb#W5sZmlsZQ%3D%3D?line=8'>9</a>\u001b[0m \u001b[39melif\u001b[39;00m lista[medio] \u001b[39m>\u001b[39m x:\n",
      "\u001b[1;31mTypeError\u001b[0m: list indices must be integers or slices, not float"
     ]
    }
   ],
   "source": [
    "def busqueda_binaria(lista, x):\n",
    "    izq = 0 \n",
    "    der = len(lista) - 1  \n",
    "    while izq <= der:\n",
    "        medio = (izq+der)/2\n",
    "        print (\"DEBUG:\", \"izq:\", izq, \"der:\", der, \"medio:\", medio)\n",
    "        if lista[medio] == x:\n",
    "            return medio\n",
    "        elif lista[medio] > x:\n",
    "            der = medio-1\n",
    "            izq = medio+1\n",
    "            return -1\n",
    "def main():\n",
    "    lista = [1,3,5]\n",
    "    while lista != [[]]:\n",
    "        x = 2\n",
    "        resultado = busqueda_binaria(lista, x)\n",
    "        print (\"Resultado:\", resultado)\n",
    "        lista = [1,3,5]\n",
    "\n",
    "if __name__ == '__main__':\n",
    "    main()\n"
   ]
  },
  {
   "cell_type": "code",
   "execution_count": null,
   "metadata": {},
   "outputs": [],
   "source": []
  },
  {
   "cell_type": "code",
   "execution_count": null,
   "metadata": {},
   "outputs": [],
   "source": []
  },
  {
   "cell_type": "code",
   "execution_count": null,
   "metadata": {},
   "outputs": [],
   "source": []
  },
  {
   "cell_type": "code",
   "execution_count": null,
   "metadata": {},
   "outputs": [],
   "source": []
  }
 ],
 "metadata": {
  "kernelspec": {
   "display_name": "Python 3.10.6 64-bit",
   "language": "python",
   "name": "python3"
  },
  "language_info": {
   "codemirror_mode": {
    "name": "ipython",
    "version": 3
   },
   "file_extension": ".py",
   "mimetype": "text/x-python",
   "name": "python",
   "nbconvert_exporter": "python",
   "pygments_lexer": "ipython3",
   "version": "3.10.6"
  },
  "orig_nbformat": 4,
  "vscode": {
   "interpreter": {
    "hash": "fb4569285eef3a3450cb62085a5b1e0da4bce0af555edc33dcf29baf3acc1368"
   }
  }
 },
 "nbformat": 4,
 "nbformat_minor": 2
}
