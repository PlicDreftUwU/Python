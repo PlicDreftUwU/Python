{
 "cells": [
  {
   "cell_type": "markdown",
   "id": "6c302627",
   "metadata": {},
   "source": [
    "# Capitulo 2\n",
    "### Declaración de variables"
   ]
  },
  {
   "cell_type": "code",
   "execution_count": 25,
   "id": "105bdfb1",
   "metadata": {},
   "outputs": [
    {
     "name": "stdout",
     "output_type": "stream",
     "text": [
      "15\n"
     ]
    }
   ],
   "source": [
    "mi_variable = 15\n",
    "print(mi_variable)"
   ]
  },
  {
   "cell_type": "code",
   "execution_count": 26,
   "id": "509bd5ef",
   "metadata": {},
   "outputs": [
    {
     "name": "stdout",
     "output_type": "stream",
     "text": [
      "Hola Mundo!\n",
      "\n",
      "Esta es una cadena\n",
      "de varias lineas\n",
      "\n"
     ]
    }
   ],
   "source": [
    "mi_cadena = \"Hola Mundo!\"\n",
    "mi_cadena_multilinea = \"\"\"\n",
    "Esta es una cadena\n",
    "de varias lineas\n",
    "\"\"\"\n",
    "print(mi_cadena)\n",
    "print(mi_cadena_multilinea)"
   ]
  },
  {
   "cell_type": "code",
   "execution_count": 27,
   "id": "af131133",
   "metadata": {},
   "outputs": [
    {
     "name": "stdout",
     "output_type": "stream",
     "text": [
      "35\n",
      "35\n",
      "35\n"
     ]
    }
   ],
   "source": [
    "edad = 35\n",
    "print(edad)\n",
    "\n",
    "edad2 = 0o43\n",
    "print(edad2)\n",
    "\n",
    "edad3 = 0x23\n",
    "print(edad3)\n",
    "\n",
    "verdadero = True\n",
    "falso = False"
   ]
  },
  {
   "cell_type": "markdown",
   "id": "e93b16a7",
   "metadata": {},
   "source": [
    "### Operaciones aritmeticas"
   ]
  },
  {
   "cell_type": "code",
   "execution_count": 28,
   "id": "1b12e186",
   "metadata": {},
   "outputs": [
    {
     "name": "stdout",
     "output_type": "stream",
     "text": [
      "187.25\n"
     ]
    }
   ],
   "source": [
    "monto_bruto = 175\n",
    "tasa_interes = 12\n",
    "monto_interes = monto_bruto * tasa_interes / 100\n",
    "tasa_bonificacion = 5\n",
    "importe_bonificacion = monto_bruto * tasa_bonificacion /100\n",
    "monto_neto = (monto_bruto - importe_bonificacion) + monto_interes\n",
    "print(monto_neto)"
   ]
  },
  {
   "cell_type": "markdown",
   "id": "ab83b670",
   "metadata": {},
   "source": [
    "### Manejo de comentarios"
   ]
  },
  {
   "cell_type": "code",
   "execution_count": 29,
   "id": "e599c78e",
   "metadata": {},
   "outputs": [],
   "source": [
    "# Comentarios\n",
    "\n",
    "# Comentario de una sola linea\n",
    "mi_variable = 15\n",
    "\n",
    "\"\"\"Y este es un comentario\n",
    "de varias lineas\"\"\"\n",
    "mi_variable = 15\n",
    "\n",
    "mi_variable = 15  # Comentario de una sola linea"
   ]
  },
  {
   "cell_type": "markdown",
   "id": "e545da9b",
   "metadata": {},
   "source": [
    "### Tuplas"
   ]
  },
  {
   "cell_type": "code",
   "execution_count": 30,
   "id": "2d652f87",
   "metadata": {},
   "outputs": [
    {
     "name": "stdout",
     "output_type": "stream",
     "text": [
      "15\n",
      "(15, 2.8, 'mas caracteres')\n",
      "('mas caracteres', 25)\n",
      "('caracteres', 15)\n",
      "25\n",
      "mas caracteres\n"
     ]
    }
   ],
   "source": [
    "mi_tupla = ('caracteres', 15, 2.8, 'mas caracteres', 25)\n",
    "print(mi_tupla[1])\n",
    "\n",
    "print(mi_tupla[1:4])\n",
    "print(mi_tupla[3:])\n",
    "print(mi_tupla[:2])\n",
    "\n",
    "print(mi_tupla[-1])\n",
    "print(mi_tupla[-2])"
   ]
  },
  {
   "cell_type": "markdown",
   "id": "73438c99",
   "metadata": {},
   "source": [
    "### Listas"
   ]
  },
  {
   "cell_type": "code",
   "execution_count": 31,
   "id": "9c11cac4",
   "metadata": {},
   "outputs": [
    {
     "name": "stdout",
     "output_type": "stream",
     "text": [
      "15\n",
      "[15, 2.8, 'mas caracteres']\n",
      "mas caracteres\n",
      "['caracteres', 15, 3.8, 'mas caracteres', 25]\n",
      "['caracteres', 15, 3.8, 'mas caracteres', 25, 'Nuevo dato']\n"
     ]
    }
   ],
   "source": [
    "mi_lista = ['caracteres', 15, 2.8, 'mas caracteres', 25]\n",
    "\n",
    "print(mi_lista[1])\n",
    "print(mi_lista[1:4])\n",
    "print(mi_lista[-2])\n",
    "\n",
    "mi_lista[2]=3.8\n",
    "print(mi_lista[:])\n",
    "\n",
    "mi_lista.append('Nuevo dato')\n",
    "print(mi_lista[:])"
   ]
  },
  {
   "cell_type": "markdown",
   "id": "462cc31a",
   "metadata": {},
   "source": [
    "### Diccionarios"
   ]
  },
  {
   "cell_type": "code",
   "execution_count": 32,
   "id": "3040b52d",
   "metadata": {},
   "outputs": [
    {
     "name": "stdout",
     "output_type": "stream",
     "text": [
      "valor_2\n",
      "{'clave_1': 'valor_1', 'clave_7': 'valor_7'}\n",
      "{'clave_1': 'Nuevo valor', 'clave_7': 'valor_7'}\n"
     ]
    }
   ],
   "source": [
    "mi_diccionario = {'clave_1': 'valor_1', 'clave_2': 'valor_2',\\\n",
    "                 'clave_7': 'valor_7'}\n",
    "print(mi_diccionario['clave_2'])\n",
    "\n",
    "del(mi_diccionario['clave_2'])\n",
    "print(mi_diccionario)\n",
    "\n",
    "mi_diccionario['clave_1']='Nuevo valor'\n",
    "print(mi_diccionario)"
   ]
  },
  {
   "cell_type": "markdown",
   "id": "84deb7cd",
   "metadata": {},
   "source": [
    "### Asignación multiple"
   ]
  },
  {
   "cell_type": "code",
   "execution_count": 33,
   "id": "1b566f9c",
   "metadata": {},
   "outputs": [
    {
     "name": "stdout",
     "output_type": "stream",
     "text": [
      "TIPO STRING\n",
      "15\n",
      "True\n",
      "Python\n",
      "2011\n",
      "Mexico\n",
      "Mexico\n"
     ]
    }
   ],
   "source": [
    "a, b, c = 'TIPO STRING', 15, True\n",
    "print(a)\n",
    "print(b)\n",
    "print(c)\n",
    "\n",
    "mi_tupla = ('Python', 2011)\n",
    "texto, anio = mi_tupla\n",
    "print(texto)\n",
    "print(anio)\n",
    "\n",
    "mi_lista = ['Mexico', 'Mexico']\n",
    "pais, provincia = mi_lista\n",
    "print(pais)\n",
    "print(provincia)"
   ]
  },
  {
   "cell_type": "markdown",
   "id": "ab4ca48c",
   "metadata": {},
   "source": [
    "### Condicionales"
   ]
  },
  {
   "cell_type": "code",
   "execution_count": 34,
   "id": "c8c8ab05",
   "metadata": {},
   "outputs": [
    {
     "name": "stdout",
     "output_type": "stream",
     "text": [
      "Cruzar la calle\n",
      "Pago con tarjeta de crédito\n",
      "No aplica para descuento, su total a pagar es de:  100\n"
     ]
    }
   ],
   "source": [
    "semaforo = \"verde\"\n",
    "if semaforo == \"verde\":\n",
    "    print(\"Cruzar la calle\")\n",
    "else:\n",
    "    print(\"Esperar\")\n",
    "\n",
    "compra = 300\n",
    "\n",
    "if compra <= 100:\n",
    "    print(\"Pago en efectivo\")\n",
    "elif compra > 100 and compra < 300:\n",
    "    print(\"Pago con tarjeta de débito\")\n",
    "else:\n",
    "    print(\"Pago con tarjeta de crédito\")\n",
    "total_compra = 100\n",
    "if total_compra > 100:\n",
    "    tasa_descuento = 10\n",
    "    importe_descuento = total_compra * tasa_descuento / 100\n",
    "    importe_a_pagar = total_compra - importe_descuento\n",
    "    print(\"Su total a pagar con descuento es de: \", importe_a_pagar)\n",
    "else:\n",
    "    print(\"No aplica para descuento, su total a pagar es de: \", total_compra)"
   ]
  },
  {
   "cell_type": "markdown",
   "id": "8583727b",
   "metadata": {},
   "source": [
    "### Control iterativas"
   ]
  },
  {
   "cell_type": "code",
   "execution_count": 35,
   "id": "b329c1ca",
   "metadata": {},
   "outputs": [
    {
     "name": "stdout",
     "output_type": "stream",
     "text": [
      "Informes del año 2001\n",
      "Informes del año 2002\n",
      "Informes del año 2003\n",
      "Informes del año 2004\n",
      "Informes del año 2005\n",
      "Informes del año 2006\n",
      "Informes del año 2007\n",
      "Informes del año 2008\n",
      "Informes del año 2009\n",
      "Informes del año 2010\n",
      "Informes del año 2011\n",
      "Informes del año 2012\n"
     ]
    }
   ],
   "source": [
    "anio = 2001\n",
    "while anio <=2012:\n",
    "    print(\"Informes del año\", str(anio))\n",
    "    anio += 1\n",
    "while True:\n",
    "    nombre = 'Francisco'\n",
    "    if nombre:\n",
    "        break"
   ]
  },
  {
   "cell_type": "markdown",
   "id": "983903a6",
   "metadata": {},
   "source": [
    "### Bucle for"
   ]
  },
  {
   "cell_type": "code",
   "execution_count": 36,
   "id": "71ae21b2",
   "metadata": {},
   "outputs": [
    {
     "name": "stdout",
     "output_type": "stream",
     "text": [
      "Francisco\n",
      "Alan\n",
      "Karen\n",
      "Diana\n",
      "rojo\n",
      "rosa\n",
      "ginda\n",
      "rojo lava\n",
      "Informes del Año 2001\n",
      "Informes del Año 2002\n",
      "Informes del Año 2003\n",
      "Informes del Año 2004\n",
      "Informes del Año 2005\n",
      "Informes del Año 2006\n",
      "Informes del Año 2007\n",
      "Informes del Año 2008\n",
      "Informes del Año 2009\n",
      "Informes del Año 2010\n",
      "Informes del Año 2011\n",
      "Informes del Año 2012\n"
     ]
    }
   ],
   "source": [
    "mi_lista = ['Francisco', 'Alan', 'Karen', 'Diana']\n",
    "for nombre in mi_lista:\n",
    "    print(nombre)\n",
    "    \n",
    "mi_tupla = ('rojo', 'rosa', 'ginda', 'rojo lava')\n",
    "for color in mi_tupla:\n",
    "    print(color)\n",
    "#Mismo bucle pero con for\n",
    "for anio in range(2001, 2013):\n",
    "    print(\"Informes del Año\", str(anio))\n"
   ]
  }
 ],
 "metadata": {
  "kernelspec": {
   "display_name": "Python 3.10.6 64-bit",
   "language": "python",
   "name": "python3"
  },
  "language_info": {
   "codemirror_mode": {
    "name": "ipython",
    "version": 3
   },
   "file_extension": ".py",
   "mimetype": "text/x-python",
   "name": "python",
   "nbconvert_exporter": "python",
   "pygments_lexer": "ipython3",
   "version": "3.10.6"
  },
  "vscode": {
   "interpreter": {
    "hash": "fb4569285eef3a3450cb62085a5b1e0da4bce0af555edc33dcf29baf3acc1368"
   }
  }
 },
 "nbformat": 4,
 "nbformat_minor": 5
}
