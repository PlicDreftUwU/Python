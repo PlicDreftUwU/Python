{
 "cells": [
  {
   "cell_type": "markdown",
   "id": "f32892d3",
   "metadata": {},
   "source": [
    "# CAPITULO 4\n",
    "### Funciones creadas por el usuario"
   ]
  },
  {
   "cell_type": "code",
   "execution_count": 1,
   "id": "115c84a8",
   "metadata": {},
   "outputs": [
    {
     "name": "stdout",
     "output_type": "stream",
     "text": [
      "Hola mundo\n",
      "Hola mundo\n",
      "('Plic', 'Dreft')\n",
      "Hola Pepe Grillo\n",
      "Buen dia Cisco\n"
     ]
    }
   ],
   "source": [
    "def mi_funcion():\n",
    "    print(\"Hola mundo\")\n",
    "    \n",
    "mi_funcion()\n",
    "\n",
    "def funcion():\n",
    "    return \"Hola mundo\"\n",
    "\n",
    "frase = funcion()\n",
    "print(frase)\n",
    "\n",
    "def mi_funcion(nombre, apellido):\n",
    "    nombre_completo = nombre, apellido\n",
    "    print(nombre_completo)\n",
    "    \n",
    "mi_funcion(\"Plic\", \"Dreft\")\n",
    "\n",
    "\n",
    "def saludar(nombre, mensaje='Hola'):\n",
    "    print(mensaje, nombre)\n",
    "    \n",
    "saludar('Pepe Grillo')\n",
    "\n",
    "saludar(mensaje=\"Buen dia\", nombre=\"Cisco\")"
   ]
  },
  {
   "cell_type": "markdown",
   "id": "e12b9d27",
   "metadata": {},
   "source": [
    "### Parametros arbitrarios"
   ]
  },
  {
   "cell_type": "code",
   "execution_count": 2,
   "id": "e4ea8a1f",
   "metadata": {},
   "outputs": [
    {
     "name": "stdout",
     "output_type": "stream",
     "text": [
      "fixed\n",
      "arbitrario1\n",
      "arbitrario2\n",
      "arbitrario3\n",
      "fixed\n",
      "arbitrario1\n",
      "arbitrario2\n",
      "arbitrario3\n",
      "El valor de  clave es  valor uno\n",
      "El valor de  clave2 es  valor dos\n"
     ]
    }
   ],
   "source": [
    "def recorrer_parametros_arbitrarios(parametro_fijo, *arbitrarios):\n",
    "    print(parametro_fijo)\n",
    "    \n",
    "    for argumento in arbitrarios:\n",
    "        print(argumento)\n",
    "        \n",
    "recorrer_parametros_arbitrarios('fixed', 'arbitrario1', 'arbitrario2', 'arbitrario3')\n",
    "\n",
    "def recorrer_parametros_arbitrarios(parametro_fijo, *arbitrarios, **kwords):\n",
    "    print(parametro_fijo)\n",
    "    for argumento in arbitrarios:\n",
    "        print(argumento)\n",
    "        \n",
    "    for clave in kwords:\n",
    "        print(\"El valor de \",clave, \"es \", kwords[clave])\n",
    "        \n",
    "recorrer_parametros_arbitrarios('fixed', 'arbitrario1', 'arbitrario2',\n",
    "                                'arbitrario3', clave='valor uno',\n",
    "                                 clave2='valor dos')\n",
    "\n"
   ]
  },
  {
   "cell_type": "markdown",
   "id": "440c4ed7",
   "metadata": {},
   "source": [
    "### Desempaqutado de parametros"
   ]
  },
  {
   "cell_type": "code",
   "execution_count": 3,
   "id": "cf4b991e",
   "metadata": {},
   "outputs": [
    {
     "name": "stdout",
     "output_type": "stream",
     "text": [
      "1350.0\n",
      "1350.0\n"
     ]
    }
   ],
   "source": [
    "def calcular(importe, descuento):\n",
    "    return importe - (importe * descuento / 100)\n",
    "\n",
    "datos = [1500, 10]\n",
    "print (calcular(*datos))\n",
    "\n",
    "\n",
    "datos = {\"descuento\": 10, \"importe\": 1500}\n",
    "print (calcular(**datos))"
   ]
  },
  {
   "cell_type": "markdown",
   "id": "53d988a0",
   "metadata": {},
   "source": [
    "### Uso de return en python"
   ]
  },
  {
   "cell_type": "code",
   "execution_count": 4,
   "id": "877934dd",
   "metadata": {},
   "outputs": [
    {
     "name": "stdout",
     "output_type": "stream",
     "text": [
      "Hola Cisco\n",
      "Hola mundo\n",
      "Hola mundo\n",
      "Hola mundo\n",
      "Hola Hazel\n",
      "Hola Fernando\n",
      "Hola Claudia\n",
      "Hola XD\n",
      "Hola XDDDD\n"
     ]
    }
   ],
   "source": [
    "def funcion():\n",
    "    return \"Hola mundo\"\n",
    "\n",
    "def saludar(nombre, mensaje=\"Hola\"):\n",
    "    print(mensaje, nombre)\n",
    "    print(funcion())\n",
    "    \n",
    "saludar(\"Cisco\")\n",
    "\n",
    "def llamada_de_retorno(func=\"\"):\n",
    "    \"\"\"Llamada de retorno a nivel global\"\"\"\n",
    "    return globals()[func]()\n",
    "\n",
    "print(llamada_de_retorno(\"funcion\"))\n",
    "\n",
    "nombre_de_la_funcion = \"funcion\"\n",
    "print(locals()[nombre_de_la_funcion]())\n",
    "\n",
    "def funcion(nombre):\n",
    "    return \"Hola \" + nombre\n",
    "\n",
    "def llamada_de_retorno(func=\"\"):\n",
    "    \"\"\"Llamada de retorno a nivel global\"\"\"\n",
    "    return globals()[func](\"Hazel\")\n",
    "\n",
    "print (llamada_de_retorno(\"funcion\"))\n",
    "\n",
    "nombre_de_la_funcion = \"funcion\"\n",
    "print (locals()[nombre_de_la_funcion](\"Fernando\"))\n",
    "\n",
    "if nombre_de_la_funcion in locals():\n",
    "    if callable(locals()[nombre_de_la_funcion]):\n",
    "        print(locals()[nombre_de_la_funcion](\"Claudia\"))\n",
    "\n",
    "def funcion(nombre):\n",
    "    return \"Hola \" + nombre\n",
    "\n",
    "def llamada_de_retorno(func=\"\"):\n",
    "    if func in globals():\n",
    "        if callable(globals()[func]):\n",
    "            return globals()[func](\"XD\")\n",
    "    else:\n",
    "        return \"Funcion no encontrada\"\n",
    "    \n",
    "print(llamada_de_retorno(\"funcion\"))\n",
    "\n",
    "nombre_de_la_funcion = \"funcion\"\n",
    "\n",
    "if nombre_de_la_funcion in locals():\n",
    "    if callable(locals()[nombre_de_la_funcion]):\n",
    "        print(locals()[nombre_de_la_funcion](\"XDDDD\"))\n",
    "else:\n",
    "    print(\"Funcion no encontrada\")\n",
    "    "
   ]
  },
  {
   "cell_type": "markdown",
   "id": "faf4b053",
   "metadata": {},
   "source": [
    "### Recursividad en python"
   ]
  },
  {
   "cell_type": "code",
   "execution_count": 5,
   "id": "9d230537",
   "metadata": {},
   "outputs": [],
   "source": [
    "def jugar(intento=1):\n",
    "    respuesta = input(\"¿De qué color es una naranja? \")\n",
    "    if respuesta != \"naranja\":\n",
    "        if intento < 3:\n",
    "            print(\"\\nFallaste! Inténtalo de nuevo\")\n",
    "            intento += 1\n",
    "            jugar(intento)# Llamada recursiva\n",
    "        else:\n",
    "            print(\"\\nPerdiste!\")\n",
    "    else:\n",
    "        print(\"\\nGanaste!\")\n",
    "    \n",
    "jugar()"
   ]
  }
 ],
 "metadata": {
  "kernelspec": {
   "display_name": "Python 3.10.6 64-bit",
   "language": "python",
   "name": "python3"
  },
  "language_info": {
   "codemirror_mode": {
    "name": "ipython",
    "version": 3
   },
   "file_extension": ".py",
   "mimetype": "text/x-python",
   "name": "python",
   "nbconvert_exporter": "python",
   "pygments_lexer": "ipython3",
   "version": "3.10.6"
  },
  "vscode": {
   "interpreter": {
    "hash": "fb4569285eef3a3450cb62085a5b1e0da4bce0af555edc33dcf29baf3acc1368"
   }
  }
 },
 "nbformat": 4,
 "nbformat_minor": 5
}
