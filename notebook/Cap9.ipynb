{
 "cells": [
  {
   "cell_type": "markdown",
   "metadata": {},
   "source": [
    "# Capitulo 9"
   ]
  },
  {
   "cell_type": "code",
   "execution_count": 3,
   "metadata": {},
   "outputs": [
    {
     "ename": "TypeError",
     "evalue": "list indices must be integers or slices, not str",
     "output_type": "error",
     "traceback": [
      "\u001b[1;31m---------------------------------------------------------------------------\u001b[0m",
      "\u001b[1;31mTypeError\u001b[0m                                 Traceback (most recent call last)",
      "\u001b[1;32md:\\PERSONAL\\Programación\\Python\\notebook\\Cap9.ipynb Celda 2\u001b[0m in \u001b[0;36m<cell line: 2>\u001b[1;34m()\u001b[0m\n\u001b[0;32m      <a href='vscode-notebook-cell:/d%3A/PERSONAL/Programaci%C3%B3n/Python/notebook/Cap9.ipynb#W3sZmlsZQ%3D%3D?line=0'>1</a>\u001b[0m materias \u001b[39m=\u001b[39m []\n\u001b[1;32m----> <a href='vscode-notebook-cell:/d%3A/PERSONAL/Programaci%C3%B3n/Python/notebook/Cap9.ipynb#W3sZmlsZQ%3D%3D?line=1'>2</a>\u001b[0m materias[\u001b[39m\"\u001b[39m\u001b[39mlunes\u001b[39m\u001b[39m\"\u001b[39m] \u001b[39m=\u001b[39m [\u001b[39m6103\u001b[39m, \u001b[39m7540\u001b[39m]\n\u001b[0;32m      <a href='vscode-notebook-cell:/d%3A/PERSONAL/Programaci%C3%B3n/Python/notebook/Cap9.ipynb#W3sZmlsZQ%3D%3D?line=2'>3</a>\u001b[0m materias[\u001b[39m\"\u001b[39m\u001b[39mmartes\u001b[39m\u001b[39m\"\u001b[39m] \u001b[39m=\u001b[39m [\u001b[39m6201\u001b[39m]\n\u001b[0;32m      <a href='vscode-notebook-cell:/d%3A/PERSONAL/Programaci%C3%B3n/Python/notebook/Cap9.ipynb#W3sZmlsZQ%3D%3D?line=3'>4</a>\u001b[0m materias[\u001b[39m\"\u001b[39m\u001b[39mmiércoles\u001b[39m\u001b[39m\"\u001b[39m] \u001b[39m=\u001b[39m [\u001b[39m6103\u001b[39m, \u001b[39m7540\u001b[39m]\n",
      "\u001b[1;31mTypeError\u001b[0m: list indices must be integers or slices, not str"
     ]
    }
   ],
   "source": [
    "materias = []\n",
    "materias[\"lunes\"] = [6103, 7540]\n",
    "materias[\"martes\"] = [6201]\n",
    "materias[\"miércoles\"] = [6103, 7540]\n",
    "materias[\"jueves\"] = []\n",
    "materias[\"viernes\"] = [6201]\n",
    "print (materias[\"domingo\"])\n",
    "print (materias.get(\"domingo\"))\n",
    "print (materias.get(\"domingo\", []))\n",
    "#Demostracion del error"
   ]
  },
  {
   "cell_type": "code",
   "execution_count": 6,
   "metadata": {},
   "outputs": [
    {
     "ename": "TypeError",
     "evalue": "list indices must be integers or slices, not str",
     "output_type": "error",
     "traceback": [
      "\u001b[1;31m---------------------------------------------------------------------------\u001b[0m",
      "\u001b[1;31mTypeError\u001b[0m                                 Traceback (most recent call last)",
      "\u001b[1;32md:\\PERSONAL\\Programación\\Python\\notebook\\Cap9.ipynb Celda 3\u001b[0m in \u001b[0;36m<cell line: 2>\u001b[1;34m()\u001b[0m\n\u001b[0;32m      <a href='vscode-notebook-cell:/d%3A/PERSONAL/Programaci%C3%B3n/Python/notebook/Cap9.ipynb#W4sZmlsZQ%3D%3D?line=0'>1</a>\u001b[0m materias \u001b[39m=\u001b[39m []\n\u001b[1;32m----> <a href='vscode-notebook-cell:/d%3A/PERSONAL/Programaci%C3%B3n/Python/notebook/Cap9.ipynb#W4sZmlsZQ%3D%3D?line=1'>2</a>\u001b[0m materias[\u001b[39m\"\u001b[39m\u001b[39mlunes\u001b[39m\u001b[39m\"\u001b[39m] \u001b[39m=\u001b[39m [\u001b[39m6103\u001b[39m, \u001b[39m7540\u001b[39m]\n\u001b[0;32m      <a href='vscode-notebook-cell:/d%3A/PERSONAL/Programaci%C3%B3n/Python/notebook/Cap9.ipynb#W4sZmlsZQ%3D%3D?line=2'>3</a>\u001b[0m materias[\u001b[39m\"\u001b[39m\u001b[39mmartes\u001b[39m\u001b[39m\"\u001b[39m] \u001b[39m=\u001b[39m [\u001b[39m6201\u001b[39m]\n\u001b[0;32m      <a href='vscode-notebook-cell:/d%3A/PERSONAL/Programaci%C3%B3n/Python/notebook/Cap9.ipynb#W4sZmlsZQ%3D%3D?line=3'>4</a>\u001b[0m materias[\u001b[39m\"\u001b[39m\u001b[39mmiércoles\u001b[39m\u001b[39m\"\u001b[39m] \u001b[39m=\u001b[39m [\u001b[39m6103\u001b[39m, \u001b[39m7540\u001b[39m]\n",
      "\u001b[1;31mTypeError\u001b[0m: list indices must be integers or slices, not str"
     ]
    }
   ],
   "source": [
    "materias = []\n",
    "materias[\"lunes\"] = [6103, 7540]\n",
    "materias[\"martes\"] = [6201]\n",
    "materias[\"miércoles\"] = [6103, 7540]\n",
    "materias[\"jueves\"] = []\n",
    "materias[\"viernes\"] = [6201]\n",
    "for dia in materias:\n",
    "    print (dia, \":\", materias[dia])\n",
    "for dia, codigos in materias.items():\n",
    "    print (dia, \":\", codigos)\n",
    "d = {\"x\": 12, \"y\": 7}\n",
    "if d.has_key(\"x\"):\n",
    "print (d[\"x\"])\n",
    "if d.has_key(\"z\"):\n",
    "print (d[\"z\"])\n",
    "if \"y\" in d:\n",
    "print (d[\"y\"])"
   ]
  }
 ],
 "metadata": {
  "kernelspec": {
   "display_name": "Python 3.10.6 64-bit",
   "language": "python",
   "name": "python3"
  },
  "language_info": {
   "codemirror_mode": {
    "name": "ipython",
    "version": 3
   },
   "file_extension": ".py",
   "mimetype": "text/x-python",
   "name": "python",
   "nbconvert_exporter": "python",
   "pygments_lexer": "ipython3",
   "version": "3.10.6"
  },
  "orig_nbformat": 4,
  "vscode": {
   "interpreter": {
    "hash": "fb4569285eef3a3450cb62085a5b1e0da4bce0af555edc33dcf29baf3acc1368"
   }
  }
 },
 "nbformat": 4,
 "nbformat_minor": 2
}
